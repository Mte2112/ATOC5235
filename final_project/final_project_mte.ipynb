{
 "cells": [
  {
   "cell_type": "code",
   "execution_count": 1,
   "id": "eb61c01e-2aed-421b-b109-37ae355bcb39",
   "metadata": {},
   "outputs": [],
   "source": [
    "import numpy as np\n",
    "\n",
    "import pandas as pd\n",
    "\n",
    "import random\n",
    "\n",
    "from tqdm import tqdm\n",
    "\n",
    "from matplotlib import pyplot as plt\n",
    "from mpl_toolkits.mplot3d import Axes3D\n",
    "from matplotlib.animation import FuncAnimation\n",
    "from matplotlib.lines import Line2D\n",
    "import matplotlib as mpl\n",
    "import matplotlib.tri as mtri\n",
    "\n",
    "from scipy.spatial import Delaunay\n",
    "\n",
    "from sklearn.metrics import root_mean_squared_error\n",
    "\n",
    "mpl.rcParams['font.family'] = 'serif'"
   ]
  },
  {
   "cell_type": "markdown",
   "id": "42f86850-98fb-454d-b0d4-e14e116dccb3",
   "metadata": {},
   "source": [
    "# 3D N-stream Monte Carlo Simulation with Polyhedra clouds"
   ]
  },
  {
   "cell_type": "markdown",
   "id": "7c7a57bc-9cfc-46af-9fa6-9baa3acf8bf1",
   "metadata": {},
   "source": [
    "#### Table of contents \n",
    "[1. Cube](#Cube-functions)  \n",
    "[2. Sphere](#Sphere-functions)  \n",
    "[3. Pyramid](#Pyramid-functions)  \n",
    "[3. Run experiments](#Experiments) "
   ]
  },
  {
   "cell_type": "markdown",
   "id": "fb2d6f77-7519-486a-a48a-14ddeaab3721",
   "metadata": {},
   "source": [
    "Create clouds of 3 different shapes: cube, sphere, and pyramid  \n",
    "run 3d montecarlo simulation where 4 things can happen  \n",
    "1. Reflect - if photon is moving upward when it exits the cloud\n",
    "2. Transmit - if photon is moving downward when it exits the cloud\n",
    "3. Absorb \n",
    "4. Side exit - if photon is moving orthogonal to top/bottom (unlikely)"
   ]
  },
  {
   "cell_type": "code",
   "execution_count": 2,
   "id": "61d88909-e7b3-4194-813a-07b6bc7c1897",
   "metadata": {},
   "outputs": [],
   "source": [
    "# stolen from https://github.com/Edenhofer/monte-carlo-radiative-transfer/blob/master/henyey_#20825estein.py\n",
    "def rand_mu(n=1, g=0.85):\n",
    "    r = np.random.rand(n)\n",
    "    return ((r * ((1 + g**2 - 2*g)**(-1/2) - (1 + g**2 + 2*g)**(-1/2)) + (1 + g**2 + 2*g)**(-1/2))**-2 - 1 - g**2) / (-2 * g)\n",
    "\n",
    "\n",
    "def henyey(g, mu):\n",
    "    return (1 - np.power(g, 2)) / np.power(1 + np.power(g, 2) - 2 * g * mu, 3/2)"
   ]
  },
  {
   "cell_type": "code",
   "execution_count": 3,
   "id": "de23c72b-6e1c-43df-a2fd-13e6615e6df8",
   "metadata": {},
   "outputs": [],
   "source": [
    "g = 0.85 # from class\n",
    "prob_back = (1-g)*0.5 # probability backscatter (low prob)\n",
    "prob_fwd = (1+g)*0.5 # probability forward scatter (high prob)\n",
    "omega = 0.99  # single-scattering albedo (0.99 = 1% chance of absorption)\n",
    "num_sims = 10000  \n",
    "optical_depth = 10  # optical depth for each side of the cube\n",
    "\n",
    "# the below make the sphere and pyramid the same volume as the cube, based on the optical depth of cube\n",
    "radius_sphere = optical_depth/((4/3*np.pi)**(1/3))\n",
    "base_height_pyramid = (3*optical_depth**3)**(1/3) # height and base side lengths (equivalent for simplicity)\n",
    "\n",
    "tau_array = [-np.log(1-random.uniform(0, 1)) for i in range(1000000)]"
   ]
  },
  {
   "cell_type": "markdown",
   "id": "fe433bb1-9622-4dd1-8480-f3bc5748fb6e",
   "metadata": {},
   "source": [
    "They should all have the same volume  \n",
    "cube = s^3   \n",
    "sphere = 4/3piR^3 # so R = 3S/((4pi)^(1/3))  \n",
    "pyramid = 1/3 base_area*h # base_area = h^2; h = (3s^3)^(1/3)  "
   ]
  },
  {
   "cell_type": "code",
   "execution_count": 4,
   "id": "473b94df-12b4-4475-82a8-6a444dccc331",
   "metadata": {},
   "outputs": [
    {
     "name": "stdout",
     "output_type": "stream",
     "text": [
      "radius of sphere is 6.203504908994001\n",
      "base&height of pyramid is 14.422495703074082\n",
      "\n",
      "Volume of cube is 1000\n",
      "Volume of sphere is 1000.0\n",
      "Volume of pyramid is 1000.0\n"
     ]
    }
   ],
   "source": [
    "print(f\"radius of sphere is {radius_sphere}\\nbase&height of pyramid is {base_height_pyramid}\\n\")  \n",
    "print(f\"Volume of cube is {optical_depth**3}\\nVolume of sphere is {round(4/3*np.pi*radius_sphere**3,0)}\\nVolume of pyramid is {round((1/3)*base_height_pyramid**3, 0)}\")"
   ]
  },
  {
   "cell_type": "code",
   "execution_count": 5,
   "id": "7a9fe557-4759-4553-a42b-8426782054e7",
   "metadata": {},
   "outputs": [],
   "source": [
    "# animation function\n",
    "def animate(i, shape, shape_flipped=\"no\"):\n",
    "    ax.clear()\n",
    "    ax.set_xlabel('X')\n",
    "    ax.set_ylabel('Y')\n",
    "    ax.set_zlabel('Z')\n",
    "    ax.set_title(f'photons: {len(all_photon_paths)} \\ng: {g}\\nω₀: {omega}', weight=\"bold\")\n",
    "    \n",
    "    # draw shape\n",
    "    if shape.lower() == 'cube':\n",
    "        # cube with length optical depth in x, y, and z\n",
    "        for edge in cube_edges:\n",
    "            ax.plot(*zip(*edge), color='black', alpha=0.3)\n",
    "            \n",
    "        ax.set_xlim(0, optical_depth)\n",
    "        ax.set_ylim(0, optical_depth)\n",
    "        ax.set_zlim(0, optical_depth)\n",
    "\n",
    "        ax.xaxis.pane.set_edgecolor('lightgrey')\n",
    "        ax.yaxis.pane.set_edgecolor('lightgrey')\n",
    "        ax.zaxis.pane.set_edgecolor('lightgrey')\n",
    "    elif shape.lower() == 'sphere':\n",
    "        # radius and center at middle of cube\n",
    "        center = [radius_sphere, radius_sphere, radius_sphere]\n",
    "        radius = radius_sphere\n",
    "        u = np.linspace(0, 2*np.pi, 20)\n",
    "        v = np.linspace(0, np.pi, 20)\n",
    "        x = center[0] + radius*np.outer(np.cos(u), np.sin(v))\n",
    "        y = center[1] + radius*np.outer(np.sin(u), np.sin(v))\n",
    "        z = center[2] + radius*np.outer(np.ones(np.size(u)), np.cos(v))\n",
    "        ax.plot_wireframe(x, y, z, color='black', alpha=0.3, rstride=2, cstride=2)\n",
    "        \n",
    "        ax.set_xlim(0, 2*radius)\n",
    "        ax.set_ylim(0, 2*radius)\n",
    "        ax.set_zlim(0, 2*radius)\n",
    "        \n",
    "        ax.xaxis.pane.set_edgecolor('lightgrey')\n",
    "        ax.yaxis.pane.set_edgecolor('lightgrey')\n",
    "        ax.zaxis.pane.set_edgecolor('lightgrey')\n",
    "    elif shape.lower() == 'pyramid':\n",
    "        # from https://stackoverflow.com/questions/29311682/finding-if-point-is-in-3d-poly-in-python\n",
    "        x = np.array([0,0,base_height_pyramid/2,base_height_pyramid,base_height_pyramid]) \n",
    "        y = np.array([0,base_height_pyramid,base_height_pyramid/2,0,base_height_pyramid]) \n",
    "        z = np.array([0,0,base_height_pyramid,0,0]) \n",
    "        if shape_flipped == \"yes\": # photon coming down on top\n",
    "            z = base_height_pyramid - z\n",
    "        \n",
    "        pyramid = Delaunay(np.array([x,y,z]).T)\n",
    "        #ax.plot_trisurf(x, y, z, triangles=pyramid.simplices)\n",
    "        ax.plot_trisurf(x, y, z, triangles=pyramid.simplices, color='none', edgecolor='gray', linewidth=1.0)\n",
    "        \n",
    "        ax.set_xlim(0, base_height_pyramid)\n",
    "        ax.set_ylim(0, base_height_pyramid)\n",
    "        ax.set_zlim(0, base_height_pyramid)\n",
    "        \n",
    "        ax.xaxis.pane.set_edgecolor('lightgrey')\n",
    "        ax.yaxis.pane.set_edgecolor('lightgrey')\n",
    "        ax.zaxis.pane.set_edgecolor('lightgrey')\n",
    "\n",
    "    countR = 0\n",
    "    countT = 0\n",
    "    countA = 0\n",
    "    countS = 0\n",
    "    \n",
    "    for j in range(min(i + 1, len(all_photon_paths))):\n",
    "        xyz, result = all_photon_paths[j]\n",
    "        xs, ys, zs = zip(*xyz)\n",
    "        \n",
    "        # color photon line by R T A\n",
    "        if result == \"R\":\n",
    "            color = '#2c3e50' \n",
    "            countR += 1\n",
    "        elif result == \"T\":\n",
    "            color = '#e74c3c' \n",
    "            countT += 1\n",
    "        elif result == \"A\":\n",
    "            color = '#f1c40f'  \n",
    "            countA += 1\n",
    "        else:\n",
    "            color = '#16a085'  # side exit very unlikely\n",
    "            countS += 1\n",
    "            \n",
    "        ax.plot(xs, ys, zs, color=color, alpha=0.9, zorder=2)\n",
    "\n",
    "        # scattering markers - gray circles\n",
    "        if len(xyz) > 2:\n",
    "            ax.scatter(xs[1:-1], ys[1:-1], zs[1:-1], edgecolors='gray', facecolors='none', s=15, alpha=0.35, zorder=1)\n",
    "        ax.scatter(xs[-1], ys[-1], zs[-1], color=color, s=20, zorder=3)\n",
    "\n",
    "    # photon counter - tracks % R T A\n",
    "    totalPh = countR + countT + countA + countS\n",
    "    pctR = round(100*countR/totalPh, 0) # pct reflected, dynamic\n",
    "    pctT = round(100*countT/totalPh, 0) # pct T\n",
    "    pctA = round(100*countA/totalPh, 0) # pct A\n",
    "    pctS = round(100*countS/totalPh, 0) # pct S\n",
    "    counter_text = f\"Total: {totalPh}/{num_sims}\\nReflected: {pctR}%\\nTransmitted: {pctT}%\\nAbsorbed: {pctA}%\\nHorizontal: {pctS}%\"\n",
    "    ax.text2D(.98, .08, counter_text, transform=ax.transAxes, fontsize=10,\n",
    "              bbox=dict(facecolor='white', alpha=0.7, boxstyle='round'))\n",
    "\n",
    "    legend_elements = [\n",
    "        Line2D([0], [0], color='#2c3e50', lw=1.5, label='Reflected'),\n",
    "        Line2D([0], [0], color='#e74c3c', lw=1.5, label='Transmitted'),\n",
    "        Line2D([0], [0], color='#f1c40f', lw=1.5, label='Absorbed'),\n",
    "        Line2D([0], [0], color='#16a085', lw=1.5, label='Perfect horizontal exit'),\n",
    "        Line2D([0], [0], color='gray', marker='o', alpha=0.4, lw=0, label='Scattering event')]\n",
    "    ax.legend(handles=legend_elements, loc=[.9, .9], frameon=False, prop={'size': 9})\n",
    "\n",
    "    #if shape_flipped == \"no\":\n",
    "    plt.gca().invert_zaxis() # make it appear as photon coming down from top"
   ]
  },
  {
   "cell_type": "markdown",
   "id": "4aee22cb-6792-44cf-a2a0-2d0a8dab7e50",
   "metadata": {},
   "source": [
    "## Cube functions"
   ]
  },
  {
   "cell_type": "code",
   "execution_count": 6,
   "id": "6ba89c03-2acf-4149-a0ca-bf5b4864a62b",
   "metadata": {},
   "outputs": [],
   "source": [
    "def monte_carlo_3D_cube():\n",
    "    '''\n",
    "    single photon simulation in cube medium\n",
    "    all sides = optical depth\n",
    "    '''\n",
    "    # start at random position on top of shape\n",
    "    x = optical_depth/2 #random.uniform(0, optical_depth)\n",
    "    y = optical_depth/2 #random.uniform(0, optical_depth)\n",
    "    z = 0\n",
    "    \n",
    "    # initial direction is downward\n",
    "    theta = 0  # polar angle - start directly down\n",
    "    phi = 0    # azimuthal angle\n",
    "    xyz = [(x, y, z)]\n",
    "    numscat = 0 # number scattering events\n",
    "    \n",
    "    while True:  \n",
    "        # sample tau\n",
    "        scattau = random.choice(tau_array)\n",
    "        \n",
    "        # use current direction to calculate position change\n",
    "        change_tau_x = scattau*np.sin(theta)*np.cos(phi)\n",
    "        change_tau_y = scattau*np.sin(theta)*np.sin(phi)\n",
    "        change_tau_z = scattau*np.cos(theta)\n",
    "        \n",
    "        # get new global position\n",
    "        newx = x + change_tau_x\n",
    "        newy = y + change_tau_y\n",
    "        newz = z + change_tau_z\n",
    "        \n",
    "        # has photon hit cube boundary? \n",
    "        if (newx >= optical_depth or newx <= 0 or # exits R/L \n",
    "            newy >= optical_depth or newy <= 0 or # exits back/front \n",
    "            newz >= optical_depth or newz <= 0): # exits top/bottom\n",
    "            \n",
    "            # Add the boundary intersection to the xyz\n",
    "            # calculate intersection point? (maybe implement in future if necessary)\n",
    "            # add the new position for simplicity\n",
    "            xyz.append((newx, newy, newz))\n",
    "            \n",
    "            # which exit? (reflection, transmission, or side)\n",
    "            if newz <= 0:\n",
    "                result = \"R\"  \n",
    "            elif newz >= optical_depth:\n",
    "                result = \"T\"  \n",
    "            else: # goes out the side\n",
    "                # check the Z direction it is going to see if T or R\n",
    "                if change_tau_z > 0:\n",
    "                    result = \"T\"\n",
    "                elif change_tau_z < 0:\n",
    "                    result = \"R\"\n",
    "                else: # goes perfectly out side, orthogonal to top and bottom \n",
    "                    result = \"S\"  # exit through side\n",
    "                \n",
    "            return xyz, result, numscat # return statement here !!\n",
    "        \n",
    "        # if did not exit, update position in cloud\n",
    "        x, y, z = newx, newy, newz\n",
    "        xyz.append((x, y, z))\n",
    "        \n",
    "        # absorbed?\n",
    "        if random.uniform(0, 1) > omega:\n",
    "            return xyz, \"A\", numscat  # return statement here !!\n",
    "\n",
    "        # if not absorbed determine how much backward or forward the scattering occurs\n",
    "        cos_scat = rand_mu(1, g)[0]  # get rand mu\n",
    "        sin_scat = np.sqrt(1.0 - cos_scat**2)\n",
    "        \n",
    "        # get directions from theta and phi\n",
    "        sin_theta = np.sin(theta)\n",
    "        cos_theta = np.cos(theta)\n",
    "        sin_phi = np.sin(phi)\n",
    "        cos_phi = np.cos(phi)\n",
    "        \n",
    "        # get local scattering direction relative to theta/phi\n",
    "        phi_scatter = 2.0*np.pi*np.random.random() \n",
    "        cos_phi_scat = np.cos(phi_scatter)\n",
    "        sin_phi_scat = np.sin(phi_scatter)\n",
    "        \n",
    "        # convert direction to global xyz direction\n",
    "        newx = sin_theta*cos_phi*cos_scat + (cos_theta*cos_phi*cos_phi_scat - sin_phi*sin_phi_scat)*sin_scat\n",
    "        newy = sin_theta*sin_phi*cos_scat + (cos_theta*sin_phi*cos_phi_scat + cos_phi*sin_phi_scat)*sin_scat\n",
    "        newz = cos_theta*cos_scat - sin_theta*sin_scat*cos_phi_scat\n",
    "        \n",
    "        # convert to spherical coordinates for next iteration\n",
    "        theta = np.arccos(newz)\n",
    "        phi = np.arctan2(newy, newx)\n",
    "        numscat = numscat + 1"
   ]
  },
  {
   "cell_type": "markdown",
   "id": "643e161e-20aa-4489-97f8-3ca0e4e1a44d",
   "metadata": {},
   "source": [
    "## Sphere functions"
   ]
  },
  {
   "cell_type": "code",
   "execution_count": 7,
   "id": "47fdb1c5-5752-4340-a519-c65997e9c1c9",
   "metadata": {},
   "outputs": [],
   "source": [
    "class sphere:\n",
    "    def __init__(self, center, radius_sphere):\n",
    "        self.center = np.array(center)\n",
    "        self.radius = radius_sphere\n",
    "    \n",
    "    def is_inside(self, point):\n",
    "        point = np.array(point)\n",
    "        # distance from the center will need to be less than the radius for it to be in the sphere\n",
    "        distance = np.linalg.norm(point - self.center)\n",
    "        return distance <= self.radius"
   ]
  },
  {
   "cell_type": "code",
   "execution_count": 8,
   "id": "bc19162d-a725-40ed-9d14-73307c656b67",
   "metadata": {},
   "outputs": [],
   "source": [
    "def monte_carlo_3D_sphere():\n",
    "    '''\n",
    "    single photon simulation in sphere\n",
    "    '''\n",
    "    # start at random position on top of shape\n",
    "    x = radius_sphere #random.uniform(0, optical_depth)\n",
    "    y = radius_sphere #random.uniform(0, optical_depth)\n",
    "    z = 0\n",
    "    \n",
    "    # initial direction is downward\n",
    "    theta = 0  # polar angle - start directly down\n",
    "    phi = 0    # azimuthal angle\n",
    "    xyz = [(x, y, z)]\n",
    "    numscat = 0 # number scattering events\n",
    "\n",
    "    # create sphere\n",
    "    sphere_cloud = sphere([radius_sphere, radius_sphere, radius_sphere], radius_sphere)\n",
    "    while True:  \n",
    "        # sample tau\n",
    "        scattau = random.choice(tau_array)\n",
    "        \n",
    "        # use current direction to calculate position change\n",
    "        change_tau_x = scattau*np.sin(theta)*np.cos(phi)\n",
    "        change_tau_y = scattau*np.sin(theta)*np.sin(phi)\n",
    "        change_tau_z = scattau*np.cos(theta)\n",
    "        \n",
    "        # get new global position\n",
    "        newx = x + change_tau_x\n",
    "        newy = y + change_tau_y\n",
    "        newz = z + change_tau_z\n",
    "\n",
    "        # has photon hit sphere boundary? \n",
    "        if not sphere_cloud.is_inside([newx, newy, newz]):\n",
    "            \n",
    "            # Add the boundary intersection to the xyz\n",
    "            # calculate intersection point? (maybe implement in future if necessary)\n",
    "            # add the new position for simplicity\n",
    "            xyz.append((newx, newy, newz))\n",
    "            \n",
    "            # which exit? (reflection, transmission, or side)\n",
    "            if newz <= 0:\n",
    "                result = \"R\"  \n",
    "            elif newz >= optical_depth:\n",
    "                result = \"T\"  \n",
    "            else: # goes out the side\n",
    "                # check the Z direction it is going to see if T or R\n",
    "                if change_tau_z > 0:\n",
    "                    result = \"T\"\n",
    "                elif change_tau_z < 0:\n",
    "                    result = \"R\"\n",
    "                else: # goes perfectly out side, orthogonal to top and bottom \n",
    "                    result = \"S\"  # exit through side\n",
    "                \n",
    "            return xyz, result, numscat # return statement here !!\n",
    "        \n",
    "        # if did not exit, update position in cloud\n",
    "        x, y, z = newx, newy, newz\n",
    "        xyz.append((x, y, z))\n",
    "        \n",
    "        # absorbed?\n",
    "        if random.uniform(0, 1) > omega:\n",
    "            return xyz, \"A\", numscat  # return statement here !!\n",
    "\n",
    "        # if not absorbed determine how much backward or forward the scattering occurs\n",
    "        cos_scat = rand_mu(1, g)[0]  # get rand mu\n",
    "        sin_scat = np.sqrt(1.0 - cos_scat**2)\n",
    "        \n",
    "        # get directions from theta and phi\n",
    "        sin_theta = np.sin(theta)\n",
    "        cos_theta = np.cos(theta)\n",
    "        sin_phi = np.sin(phi)\n",
    "        cos_phi = np.cos(phi)\n",
    "        \n",
    "        # get local scattering direction relative to theta/phi\n",
    "        phi_scatter = 2.0*np.pi*np.random.random() \n",
    "        cos_phi_scat = np.cos(phi_scatter)\n",
    "        sin_phi_scat = np.sin(phi_scatter)\n",
    "        \n",
    "        # convert direction to global xyz direction\n",
    "        newx = sin_theta*cos_phi*cos_scat + (cos_theta*cos_phi*cos_phi_scat - sin_phi*sin_phi_scat)*sin_scat\n",
    "        newy = sin_theta*sin_phi*cos_scat + (cos_theta*sin_phi*cos_phi_scat + cos_phi*sin_phi_scat)*sin_scat\n",
    "        newz = cos_theta*cos_scat - sin_theta*sin_scat*cos_phi_scat\n",
    "        \n",
    "        # convert to spherical coordinates for next iteration\n",
    "        theta = np.arccos(newz)\n",
    "        phi = np.arctan2(newy, newx)\n",
    "        numscat=numscat+1"
   ]
  },
  {
   "cell_type": "markdown",
   "id": "1538ad1c-1ca7-4579-9806-d63bda658722",
   "metadata": {},
   "source": [
    "## Pyramid functions"
   ]
  },
  {
   "cell_type": "code",
   "execution_count": 62,
   "id": "49503f93-5ebe-462d-8ec9-ad67ab9dd83d",
   "metadata": {},
   "outputs": [],
   "source": [
    "class pyramid:\n",
    "    from scipy.spatial import Delaunay\n",
    "    def __init__(self, base_height_pyramid=base_height_pyramid, direction=\"normal\"):\n",
    "        x = np.array([0,0,base_height_pyramid/2,base_height_pyramid,base_height_pyramid]) \n",
    "        y = np.array([0,base_height_pyramid,base_height_pyramid/2,0,base_height_pyramid]) \n",
    "        z = np.array([0,0,base_height_pyramid,0,0]) \n",
    "        \n",
    "        if direction == \"flipped\": # flip pyramid upside down\n",
    "            z = base_height_pyramid - z\n",
    "        \n",
    "        self.shape = Delaunay(np.array([x, y, z]).T)\n",
    "    \n",
    "    def is_inside(self, point):\n",
    "        point = np.array(point)\n",
    "        # use delauney triangulation to see if point inside or outside\n",
    "        # from old post https://stackoverflow.com/questions/26434726/return-surface-triangle-of-3d-scipy-spatial-delaunay\n",
    "        boolean = self.shape.find_simplex(point) >= 0\n",
    "        return boolean == True"
   ]
  },
  {
   "cell_type": "code",
   "execution_count": 58,
   "id": "b411f2cb-8cb2-41f7-ab60-99699f51a508",
   "metadata": {},
   "outputs": [],
   "source": [
    "def monte_carlo_3D_pyramid_top():\n",
    "    from scipy.spatial import Delaunay\n",
    "    '''\n",
    "    single photon simulation in pyramid coming down on the top of the pyramid\n",
    "    '''\n",
    "    # start at random position on top of shape\n",
    "    x = base_height_pyramid/2 #random.uniform(0, optical_depth)\n",
    "    y = base_height_pyramid/2 #random.uniform(0, optical_depth)\n",
    "    z = 0\n",
    "    \n",
    "    # initial direction is downward\n",
    "    theta = 0  # polar angle - start directly down\n",
    "    phi = 0    # azimuthal angle\n",
    "    xyz = [(x, y, z)]\n",
    "    numscat = 0 # number scattering events\n",
    "\n",
    "    # create pyramid\n",
    "    pyramid_cloud = pyramid(base_height_pyramid=base_height_pyramid, direction=\"flipped\") # flip so photons go through top first \n",
    "    while True:  \n",
    "        # sample tau\"\n",
    "        scattau = random.choice(tau_array)\n",
    "        \n",
    "        # use current direction to calculate position change\n",
    "        change_tau_x = scattau*np.sin(theta)*np.cos(phi)\n",
    "        change_tau_y = scattau*np.sin(theta)*np.sin(phi)\n",
    "        change_tau_z = scattau*np.cos(theta)\n",
    "        \n",
    "        # get new global position\n",
    "        newx = x + change_tau_x\n",
    "        newy = y + change_tau_y\n",
    "        newz = z + change_tau_z\n",
    "\n",
    "        # has photon hit pyramid boundary? \n",
    "        if not pyramid_cloud.is_inside([newx, newy, newz]):\n",
    "            \n",
    "            # Add the boundary intersection to the xyz\n",
    "            # calculate intersection point? (maybe implement in future if necessary)\n",
    "            # add the new position for simplicity\n",
    "            xyz.append((newx, newy, newz))\n",
    "            \n",
    "            # which exit? (reflection, transmission, or side)\n",
    "            if newz <= 0:\n",
    "                result = \"R\"  \n",
    "            elif newz >= optical_depth:\n",
    "                result = \"T\"  \n",
    "            else: # goes out the side\n",
    "                # check the Z direction it is going to see if T or R\n",
    "                if change_tau_z > 0:\n",
    "                    result = \"T\"\n",
    "                elif change_tau_z < 0:\n",
    "                    result = \"R\"\n",
    "                else: # goes perfectly out side, orthogonal to top and bottom \n",
    "                    result = \"S\"  # exit through side\n",
    "                \n",
    "            return xyz, result, numscat # return statement here !!\n",
    "        \n",
    "        # if did not exit, update position in cloud\n",
    "        x, y, z = newx, newy, newz\n",
    "        xyz.append((x, y, z))\n",
    "        \n",
    "        # absorbed?\n",
    "        if random.uniform(0, 1) > omega:\n",
    "            return xyz, \"A\", numscat  # return statement here !!\n",
    "\n",
    "        # if not absorbed determine how much backward or forward the scattering occurs\n",
    "        cos_scat = rand_mu(1, g)[0]  # get rand mu\n",
    "        sin_scat = np.sqrt(1.0 - cos_scat**2)\n",
    "        \n",
    "        # get directions from theta and phi\n",
    "        sin_theta = np.sin(theta)\n",
    "        cos_theta = np.cos(theta)\n",
    "        sin_phi = np.sin(phi)\n",
    "        cos_phi = np.cos(phi)\n",
    "        \n",
    "        # get local scattering direction relative to theta/phi\n",
    "        phi_scatter = 2.0*np.pi*np.random.random() \n",
    "        cos_phi_scat = np.cos(phi_scatter)\n",
    "        sin_phi_scat = np.sin(phi_scatter)\n",
    "        \n",
    "        # convert direction to global xyz direction\n",
    "        newx = sin_theta*cos_phi*cos_scat + (cos_theta*cos_phi*cos_phi_scat - sin_phi*sin_phi_scat)*sin_scat\n",
    "        newy = sin_theta*sin_phi*cos_scat + (cos_theta*sin_phi*cos_phi_scat + cos_phi*sin_phi_scat)*sin_scat\n",
    "        newz = cos_theta*cos_scat - sin_theta*sin_scat*cos_phi_scat\n",
    "        \n",
    "        # convert to spherical coordinates for next iteration\n",
    "        theta = np.arccos(newz)\n",
    "        phi = np.arctan2(newy, newx)\n",
    "        numscat=numscat+1"
   ]
  },
  {
   "cell_type": "code",
   "execution_count": 59,
   "id": "eacd5cc4-9be8-4c4b-a4cc-c50f75aeb3ca",
   "metadata": {},
   "outputs": [],
   "source": [
    "def monte_carlo_3D_pyramid_bottom():\n",
    "    from scipy.spatial import Delaunay\n",
    "    '''\n",
    "    single photon simulation in pyramid coming up from the base of the pyramid\n",
    "    '''\n",
    "    # start at random position on top of shape\n",
    "    x = base_height_pyramid/2 #random.uniform(0, optical_depth)\n",
    "    y = base_height_pyramid/2 #random.uniform(0, optical_depth)\n",
    "    z = 0\n",
    "    \n",
    "    # initial direction is downward\n",
    "    theta = 0  # polar angle - start directly down\n",
    "    phi = 0    # azimuthal angle\n",
    "    xyz = [(x, y, z)]\n",
    "    numscat = 0 # number scattering events\n",
    "\n",
    "    # create sphere\n",
    "    pyramid_cloud = pyramid(base_height_pyramid)\n",
    "    while True:  \n",
    "        # sample tau\n",
    "        scattau = random.choice(tau_array)\n",
    "        \n",
    "        # use current direction to calculate position change\n",
    "        change_tau_x = scattau*np.sin(theta)*np.cos(phi)\n",
    "        change_tau_y = scattau*np.sin(theta)*np.sin(phi)\n",
    "        change_tau_z = scattau*np.cos(theta)\n",
    "        \n",
    "        # get new global position\n",
    "        newx = x + change_tau_x\n",
    "        newy = y + change_tau_y\n",
    "        newz = z + change_tau_z\n",
    "\n",
    "        # has photon hit pyramid boundary? \n",
    "        if not pyramid_cloud.is_inside([newx, newy, newz]):\n",
    "            \n",
    "            # Add the boundary intersection to the xyz\n",
    "            # calculate intersection point? (maybe implement in future if necessary)\n",
    "            # add the new position for simplicity\n",
    "            xyz.append((newx, newy, newz))\n",
    "            \n",
    "            # which exit? (reflection, transmission, or side)\n",
    "            if newz <= 0:\n",
    "                result = \"R\"  \n",
    "            elif newz >= optical_depth:\n",
    "                result = \"T\"  \n",
    "            else: # goes out the side\n",
    "                # check the Z direction it is going to see if T or R\n",
    "                if change_tau_z > 0:\n",
    "                    result = \"T\"\n",
    "                elif change_tau_z < 0:\n",
    "                    result = \"R\"\n",
    "                else: # goes perfectly out side, orthogonal to top and bottom \n",
    "                    result = \"S\"  # exit through side\n",
    "                \n",
    "            return xyz, result, numscat # return statement here !!\n",
    "        \n",
    "        # if did not exit, update position in cloud\n",
    "        x, y, z = newx, newy, newz\n",
    "        xyz.append((x, y, z))\n",
    "        \n",
    "        # absorbed?\n",
    "        if random.uniform(0, 1) > omega:\n",
    "            return xyz, \"A\", numscat  # return statement here !!\n",
    "\n",
    "        # if not absorbed determine how much backward or forward the scattering occurs\n",
    "        cos_scat = rand_mu(1, g)[0]  # get rand mu\n",
    "        sin_scat = np.sqrt(1.0 - cos_scat**2)\n",
    "        \n",
    "        # get directions from theta and phi\n",
    "        sin_theta = np.sin(theta)\n",
    "        cos_theta = np.cos(theta)\n",
    "        sin_phi = np.sin(phi)\n",
    "        cos_phi = np.cos(phi)\n",
    "        \n",
    "        # get local scattering direction relative to theta/phi\n",
    "        phi_scatter = 2.0*np.pi*np.random.random() \n",
    "        cos_phi_scat = np.cos(phi_scatter)\n",
    "        sin_phi_scat = np.sin(phi_scatter)\n",
    "        \n",
    "        # convert direction to global xyz direction\n",
    "        newx = sin_theta*cos_phi*cos_scat + (cos_theta*cos_phi*cos_phi_scat - sin_phi*sin_phi_scat)*sin_scat\n",
    "        newy = sin_theta*sin_phi*cos_scat + (cos_theta*sin_phi*cos_phi_scat + cos_phi*sin_phi_scat)*sin_scat\n",
    "        newz = cos_theta*cos_scat - sin_theta*sin_scat*cos_phi_scat\n",
    "        \n",
    "        # convert to spherical coordinates for next iteration\n",
    "        theta = np.arccos(newz)\n",
    "        phi = np.arctan2(newy, newx)\n",
    "        numscat = numscat + 1"
   ]
  },
  {
   "cell_type": "markdown",
   "id": "a92d9d0b-3e0d-492e-b7ff-cbc46e595706",
   "metadata": {},
   "source": [
    "## Run simulation func"
   ]
  },
  {
   "cell_type": "code",
   "execution_count": 60,
   "id": "5175a475-8712-40f6-9c6d-df1a7814c202",
   "metadata": {},
   "outputs": [],
   "source": [
    "def runMCsim(func, num_sims, print_stmt=None):\n",
    "    # run cube montecarlo sim\n",
    "    R_array = []  \n",
    "    T_array = [] \n",
    "    A_array = []  \n",
    "    \n",
    "    all_photon_paths = []\n",
    "    \n",
    "    # Simulate photons and collect paths\n",
    "    print(\"Simulating photon paths...\")\n",
    "    numR = 0\n",
    "    numT = 0\n",
    "    numA = 0\n",
    "    numS = 0  # Count of photons exiting through sides\n",
    "    num_scattered = 0\n",
    "    \n",
    "    for _ in tqdm(range(num_sims)):\n",
    "        xyz, result, scat = func()\n",
    "        \n",
    "        # Record the result\n",
    "        if result == \"R\":\n",
    "            numR += 1\n",
    "        elif result == \"T\":\n",
    "            numT += 1\n",
    "        elif result == \"A\":\n",
    "            numA += 1\n",
    "        elif result == \"S\":\n",
    "            numS += 1\n",
    "        num_scattered = num_scattered + scat \n",
    "        # Store the xyz for visualization\n",
    "        all_photon_paths.append((xyz, result))\n",
    "    \n",
    "    # Calculate fractions\n",
    "    R_fraction = numR / num_sims\n",
    "    T_fraction = numT / num_sims\n",
    "    A_fraction = numA / num_sims\n",
    "    S_fraction = numS / num_sims\n",
    "    \n",
    "    print(f\"{print_stmt}\")\n",
    "    print(f\"Reflection: {R_fraction:.4f}\")\n",
    "    print(f\"Transmission: {T_fraction:.4f}\")\n",
    "    print(f\"Absorption: {A_fraction:.4f}\")\n",
    "    print(f\"Side exit: {S_fraction:.4f}\")\n",
    "    print(f\"Number scattered: {num_scattered}\")\n",
    "    print(f\"Conservation check: {R_fraction + T_fraction + A_fraction + S_fraction:.4f}\")\n",
    "\n",
    "    return all_photon_paths, R_fraction, T_fraction, A_fraction, S_fraction, num_scattered"
   ]
  },
  {
   "cell_type": "markdown",
   "id": "1a7f11f7-29e8-4718-b1cf-0fb947ba38a0",
   "metadata": {},
   "source": [
    "## Experiments"
   ]
  },
  {
   "cell_type": "markdown",
   "id": "013297b9-7dba-4503-9cf8-1c7a85f5bdab",
   "metadata": {},
   "source": [
    "#### Cube exp"
   ]
  },
  {
   "cell_type": "code",
   "execution_count": 61,
   "id": "54c025df-a5a6-44a3-9305-d2c8fa447e7c",
   "metadata": {},
   "outputs": [
    {
     "name": "stdout",
     "output_type": "stream",
     "text": [
      "Simulating photon paths...\n"
     ]
    },
    {
     "name": "stderr",
     "output_type": "stream",
     "text": [
      "100%|█████████████████████████████████| 100000/100000 [00:11<00:00, 8456.44it/s]"
     ]
    },
    {
     "name": "stdout",
     "output_type": "stream",
     "text": [
      "Results for cubic medium with optical depth 10:\n",
      "Reflection: 0.3376\n",
      "Transmission: 0.5613\n",
      "Absorption: 0.1011\n",
      "Side exit: 0.0000\n",
      "Number scattered: 1006301\n",
      "Conservation check: 1.0000\n"
     ]
    },
    {
     "name": "stderr",
     "output_type": "stream",
     "text": [
      "\n"
     ]
    }
   ],
   "source": [
    "printstmt = f\"Results for cubic medium with optical depth {round(optical_depth, 1)}:\"\n",
    "all_photon_paths, R_fraction, T_fraction, A_fraction, S_fraction, nscat = runMCsim(monte_carlo_3D_cube, \n",
    "                                                                            num_sims, printstmt\n",
    "                                                                           )"
   ]
  },
  {
   "cell_type": "code",
   "execution_count": 39,
   "id": "6af7232d-0bd2-4fa5-bf1a-e50820e8513c",
   "metadata": {},
   "outputs": [],
   "source": [
    "# !! Uncomment to create photon animation !!\n",
    "\n",
    "# ani_name = f\"animations/cube_animation_photons-{len(all_photon_paths)}_tau-{optical_depth}.mp4\"\n",
    "# fig = plt.figure(figsize=(10, 8))\n",
    "# ax = fig.add_subplot(111, projection='3d')\n",
    "\n",
    "# #draw cube edges hard coded for animation\n",
    "# # from https://how2matplotlib.com/how-to-draw-3d-cube-using-matplotlib-in-python.html\n",
    "# cube_edges = [\n",
    "#     [(0, 0, 0), (optical_depth, 0, 0)],\n",
    "#     [(0, 0, 0), (0, optical_depth, 0)],\n",
    "#     [(0, 0, 0), (0, 0, optical_depth)],\n",
    "#     [(optical_depth, 0, 0), (optical_depth, optical_depth, 0)],\n",
    "#     [(optical_depth, 0, 0), (optical_depth, 0, optical_depth)],\n",
    "#     [(0, optical_depth, 0), (optical_depth, optical_depth, 0)],\n",
    "#     [(0, optical_depth, 0), (0, optical_depth, optical_depth)],\n",
    "#     [(0, 0, optical_depth), (optical_depth, 0, optical_depth)],\n",
    "#     [(0, 0, optical_depth), (0, optical_depth, optical_depth)],\n",
    "#     [(optical_depth, optical_depth, 0), (optical_depth, optical_depth, optical_depth)],\n",
    "#     [(optical_depth, 0, optical_depth), (optical_depth, optical_depth, optical_depth)],\n",
    "#     [(0, optical_depth, optical_depth), (optical_depth, optical_depth, optical_depth)]]\n",
    "\n",
    "# print(\"creating animation...\")\n",
    "# anim = FuncAnimation(fig, lambda i: animate(i, shape='cube'), frames=len(all_photon_paths), interval=30, blit=False)\n",
    "# print(\"saving animation...\")\n",
    "# anim.save(ani_name, writer='ffmpeg', fps=10)\n",
    "# print(f\"saved {ani_name}\")"
   ]
  },
  {
   "cell_type": "markdown",
   "id": "e872335f-30c3-4225-b66d-1c34a7c43d97",
   "metadata": {},
   "source": [
    "#### Sphere exp"
   ]
  },
  {
   "cell_type": "code",
   "execution_count": 54,
   "id": "0d63bbf4-29ce-4ea0-be4e-cf6aaea3047f",
   "metadata": {},
   "outputs": [
    {
     "name": "stdout",
     "output_type": "stream",
     "text": [
      "Simulating photon paths...\n"
     ]
    },
    {
     "name": "stderr",
     "output_type": "stream",
     "text": [
      "100%|███████████████████████████████████| 10000/10000 [00:01<00:00, 6827.81it/s]"
     ]
    },
    {
     "name": "stdout",
     "output_type": "stream",
     "text": [
      "Results for spherical medium with radius 6.203504908994001:\n",
      "Reflection: 0.3669\n",
      "Transmission: 0.5296\n",
      "Absorption: 0.1035\n",
      "Side exit: 0.0000\n",
      "Conservation check: 1.0000\n"
     ]
    },
    {
     "name": "stderr",
     "output_type": "stream",
     "text": [
      "\n"
     ]
    }
   ],
   "source": [
    "printstmt = f\"Results for spherical medium with radius {radius_sphere}:\"\n",
    "all_photon_paths, R_fraction, T_fraction, A_fraction, S_fraction, nscat = runMCsim(monte_carlo_3D_sphere, \n",
    "                                                                            num_sims, printstmt\n",
    "                                                                           )"
   ]
  },
  {
   "cell_type": "code",
   "execution_count": 44,
   "id": "e9a51c5a-b204-4165-8fe2-6a4a79602278",
   "metadata": {},
   "outputs": [],
   "source": [
    "# !! Uncomment to create animation !!\n",
    "# # create photon animation\n",
    "# ani_name = f\"animations/sphere_animation_photons-{len(all_photon_paths)}_tau-{optical_depth}.mp4\"\n",
    "# fig = plt.figure(figsize=(10, 8))\n",
    "# ax = fig.add_subplot(111, projection='3d')\n",
    "# print(\"creating animation...\")\n",
    "# anim = FuncAnimation(fig, lambda i: animate(i, shape='sphere'), frames=len(all_photon_paths), interval=30, blit=False)\n",
    "# print(\"saving animation...\")\n",
    "# anim.save(ani_name, writer='ffmpeg', fps=10)\n",
    "# print(f\"saved {ani_name}\")"
   ]
  },
  {
   "cell_type": "markdown",
   "id": "c6ac91c0-eda1-4507-b99e-ef1b7124f503",
   "metadata": {},
   "source": [
    "#### Pyramid top exp"
   ]
  },
  {
   "cell_type": "code",
   "execution_count": 19,
   "id": "804d7005-65a1-4eff-a0a3-7d35eb70daf8",
   "metadata": {},
   "outputs": [
    {
     "name": "stdout",
     "output_type": "stream",
     "text": [
      "Simulating photon paths...\n"
     ]
    },
    {
     "name": "stderr",
     "output_type": "stream",
     "text": [
      "100%|███████████████████████████████████████| 250/250 [00:00<00:00, 9204.01it/s]"
     ]
    },
    {
     "name": "stdout",
     "output_type": "stream",
     "text": [
      "Results for a pyramid medium with base/height 21.6:\n",
      "Reflection: 0.0000\n",
      "Transmission: 1.0000\n",
      "Absorption: 0.0000\n",
      "Side exit: 0.0000\n",
      "Number scattered: 0\n",
      "Conservation check: 1.0000\n"
     ]
    },
    {
     "name": "stderr",
     "output_type": "stream",
     "text": [
      "\n"
     ]
    }
   ],
   "source": [
    "printstmt = f\"Results for a pyramid medium with base/height {round(base_height_pyramid, 1)}:\"\n",
    "all_photon_paths, R_fraction, T_fraction, A_fraction, S_fraction, nscat = runMCsim(monte_carlo_3D_pyramid_top, \n",
    "                                                                            num_sims, printstmt\n",
    "                                                                           )"
   ]
  },
  {
   "cell_type": "code",
   "execution_count": 64,
   "id": "d6af8d45-d81e-4013-bcc6-40db9efdbcdb",
   "metadata": {},
   "outputs": [],
   "source": [
    "# #!! Uncomment to create animation !!\n",
    "# ani_name = f\"animations/pyramid_top_animation_photons-{len(all_photon_paths)}_baseheight-{round(base_height_pyramid, 0)}.mp4\"\n",
    "# fig = plt.figure(figsize=(10, 8))\n",
    "# ax = fig.add_subplot(111, projection='3d')\n",
    "# print(\"creating animation...\")\n",
    "# anim = FuncAnimation(fig, lambda i: animate(i, shape='pyramid', shape_flipped=\"yes\"), frames=len(all_photon_paths), interval=30, blit=False)\n",
    "# print(\"saving animation...\")\n",
    "# anim.save(ani_name, writer='ffmpeg', fps=10)\n",
    "# print(f\"saved {ani_name}\")"
   ]
  },
  {
   "cell_type": "markdown",
   "id": "f350c88a-2eaf-4c85-bb26-7e8b62017b72",
   "metadata": {},
   "source": [
    "#### Pyramid bottom exp"
   ]
  },
  {
   "cell_type": "code",
   "execution_count": 56,
   "id": "6d506035-dcaf-40c1-a9e6-54dff9ccee2e",
   "metadata": {},
   "outputs": [
    {
     "name": "stdout",
     "output_type": "stream",
     "text": [
      "Simulating photon paths...\n"
     ]
    },
    {
     "name": "stderr",
     "output_type": "stream",
     "text": [
      "100%|███████████████████████████████████| 10000/10000 [00:01<00:00, 6710.03it/s]"
     ]
    },
    {
     "name": "stdout",
     "output_type": "stream",
     "text": [
      "Results for a flipped pyramid medium with base/height 14.4:\n",
      "Reflection: 0.2981\n",
      "Transmission: 0.6046\n",
      "Absorption: 0.0973\n",
      "Side exit: 0.0000\n",
      "Conservation check: 1.0000\n"
     ]
    },
    {
     "name": "stderr",
     "output_type": "stream",
     "text": [
      "\n"
     ]
    }
   ],
   "source": [
    "printstmt = f\"Results for a flipped pyramid medium with base/height {round(base_height_pyramid, 1)}:\"\n",
    "all_photon_paths, R_fraction, T_fraction, A_fraction, S_fraction, nscat = runMCsim(monte_carlo_3D_pyramid_bottom, \n",
    "                                                                            num_sims, printstmt\n",
    "                                                                           )"
   ]
  },
  {
   "cell_type": "code",
   "execution_count": 35,
   "id": "c732cced-3534-47b2-ab00-8757b86011f2",
   "metadata": {
    "scrolled": true
   },
   "outputs": [],
   "source": [
    "# !! Uncomment to create animation !!\n",
    "# ani_name = f\"animations/pyramid_bottom_animation_photons-{len(all_photon_paths)}_baseheight-{round(base_height_pyramid, 0)}.mp4\"\n",
    "# fig = plt.figure(figsize=(10, 8))\n",
    "# ax = fig.add_subplot(111, projection='3d')\n",
    "# print(\"creating animation...\")\n",
    "# anim = FuncAnimation(fig, lambda i: animate(i, shape='pyramid'), frames=len(all_photon_paths), interval=30, blit=False)\n",
    "# print(\"saving animation...\")\n",
    "# anim.save(ani_name, writer='ffmpeg', fps=10)\n",
    "# print(f\"saved {ani_name}\")"
   ]
  },
  {
   "cell_type": "markdown",
   "id": "c6ed63a1-7531-4152-89c7-3e474c64ebad",
   "metadata": {},
   "source": [
    "## Analysis"
   ]
  },
  {
   "cell_type": "code",
   "execution_count": 67,
   "id": "84e66943-4501-4a4a-bbc1-6928731880ea",
   "metadata": {},
   "outputs": [
    {
     "name": "stdout",
     "output_type": "stream",
     "text": [
      "Simulating photon paths...\n"
     ]
    },
    {
     "name": "stderr",
     "output_type": "stream",
     "text": [
      "100%|████████████████████████████████| 100000/100000 [00:06<00:00, 16000.09it/s]\n"
     ]
    },
    {
     "name": "stdout",
     "output_type": "stream",
     "text": [
      "None\n",
      "Reflection: 0.1972\n",
      "Transmission: 0.7503\n",
      "Absorption: 0.0524\n",
      "Side exit: 0.0000\n",
      "Number scattered: 511632\n",
      "Conservation check: 1.0000\n",
      "Simulating photon paths...\n"
     ]
    },
    {
     "name": "stderr",
     "output_type": "stream",
     "text": [
      "100%|████████████████████████████████| 100000/100000 [00:07<00:00, 12565.84it/s]\n"
     ]
    },
    {
     "name": "stdout",
     "output_type": "stream",
     "text": [
      "None\n",
      "Reflection: 0.2141\n",
      "Transmission: 0.7304\n",
      "Absorption: 0.0555\n",
      "Side exit: 0.0000\n",
      "Number scattered: 551474\n",
      "Conservation check: 1.0000\n",
      "Simulating photon paths...\n"
     ]
    },
    {
     "name": "stderr",
     "output_type": "stream",
     "text": [
      "100%|█████████████████████████████████| 100000/100000 [00:10<00:00, 9707.10it/s]\n"
     ]
    },
    {
     "name": "stdout",
     "output_type": "stream",
     "text": [
      "None\n",
      "Reflection: 0.1922\n",
      "Transmission: 0.7555\n",
      "Absorption: 0.0524\n",
      "Side exit: 0.0000\n",
      "Number scattered: 518607\n",
      "Conservation check: 1.0000\n",
      "Simulating photon paths...\n"
     ]
    },
    {
     "name": "stderr",
     "output_type": "stream",
     "text": [
      "100%|████████████████████████████████| 100000/100000 [00:09<00:00, 10650.48it/s]"
     ]
    },
    {
     "name": "stdout",
     "output_type": "stream",
     "text": [
      "None\n",
      "Reflection: 0.1758\n",
      "Transmission: 0.7757\n",
      "Absorption: 0.0485\n",
      "Side exit: 0.0000\n",
      "Number scattered: 495979\n",
      "Conservation check: 1.0000\n"
     ]
    },
    {
     "name": "stderr",
     "output_type": "stream",
     "text": [
      "\n"
     ]
    }
   ],
   "source": [
    "# 125 volume\n",
    "optical_depth = 5  # optical depth for each side of the cube\n",
    "# the below make the sphere and pyramid the same volume as the cube, based on the optical depth of cube\n",
    "radius_sphere = optical_depth/((4/3*np.pi)**(1/3))\n",
    "base_height_pyramid = (3*optical_depth**3)**(1/3) # height and base side lengths (equivalent for simplicity)\n",
    "\n",
    "### !! Bug alert !!\n",
    "# bug in code that requires re-running the pyramid function after resetting the base/height measurements\n",
    "# due to set up of function and improper handlind of global variables inside local functions (which jupyter notebook allows)\n",
    "# the whole notebook should be revamped to avoid these issues, but for times sake quick and dirty fix is to reset the function\n",
    "class pyramid:\n",
    "    from scipy.spatial import Delaunay\n",
    "    def __init__(self, base_height_pyramid=base_height_pyramid, direction=\"normal\"):\n",
    "        x = np.array([0,0,base_height_pyramid/2,base_height_pyramid,base_height_pyramid]) \n",
    "        y = np.array([0,base_height_pyramid,base_height_pyramid/2,0,base_height_pyramid]) \n",
    "        z = np.array([0,0,base_height_pyramid,0,0]) \n",
    "        \n",
    "        if direction == \"flipped\": # flip pyramid upside down\n",
    "            z = base_height_pyramid - z\n",
    "        \n",
    "        self.shape = Delaunay(np.array([x, y, z]).T)\n",
    "    \n",
    "    def is_inside(self, point):\n",
    "        point = np.array(point)\n",
    "        # use delauney triangulation to see if point inside or outside\n",
    "        # from old post https://stackoverflow.com/questions/26434726/return-surface-triangle-of-3d-scipy-spatial-delaunay\n",
    "        boolean = self.shape.find_simplex(point) >= 0\n",
    "        return boolean == True\n",
    "## Squash bug later\n",
    "\n",
    "# run sum\n",
    "num_sims = 100000\n",
    "all_photon_paths_C5, R_fraction_C5, T_fraction_C5, A_fraction_C5, S_fraction_C5, nscat_C5 = runMCsim(monte_carlo_3D_cube, \n",
    "                                                                            num_sims)\n",
    "all_photon_paths_S5, R_fraction_S5, T_fraction_S5, A_fraction_S5, S_fraction_S5, nscat_S5 = runMCsim(monte_carlo_3D_sphere, \n",
    "                                                                            num_sims)\n",
    "all_photon_paths_PT5, R_fraction_PT5, T_fraction_PT5, A_fraction_PT5, S_fraction_PT5, nscat_PT5 = runMCsim(monte_carlo_3D_pyramid_top, \n",
    "                                                                            num_sims)\n",
    "all_photon_paths_PB5, R_fraction_PB5, T_fraction_PB5, A_fraction_PB5, S_fraction_PB5, nscat_PB5 = runMCsim(monte_carlo_3D_pyramid_bottom, \n",
    "                                                                            num_sims)"
   ]
  },
  {
   "cell_type": "code",
   "execution_count": 68,
   "id": "f7944287-479f-498a-b23a-6ed6bba3befa",
   "metadata": {},
   "outputs": [
    {
     "name": "stdout",
     "output_type": "stream",
     "text": [
      "Simulating photon paths...\n"
     ]
    },
    {
     "name": "stderr",
     "output_type": "stream",
     "text": [
      "100%|█████████████████████████████████| 100000/100000 [00:11<00:00, 8591.45it/s]\n"
     ]
    },
    {
     "name": "stdout",
     "output_type": "stream",
     "text": [
      "None\n",
      "Reflection: 0.3407\n",
      "Transmission: 0.5593\n",
      "Absorption: 0.1000\n",
      "Side exit: 0.0000\n",
      "Number scattered: 1004435\n",
      "Conservation check: 1.0000\n",
      "Simulating photon paths...\n"
     ]
    },
    {
     "name": "stderr",
     "output_type": "stream",
     "text": [
      "100%|█████████████████████████████████| 100000/100000 [00:15<00:00, 6660.70it/s]\n"
     ]
    },
    {
     "name": "stdout",
     "output_type": "stream",
     "text": [
      "None\n",
      "Reflection: 0.3719\n",
      "Transmission: 0.5253\n",
      "Absorption: 0.1028\n",
      "Side exit: 0.0000\n",
      "Number scattered: 1023481\n",
      "Conservation check: 1.0000\n",
      "Simulating photon paths...\n"
     ]
    },
    {
     "name": "stderr",
     "output_type": "stream",
     "text": [
      "100%|█████████████████████████████████| 100000/100000 [00:12<00:00, 8282.47it/s]\n"
     ]
    },
    {
     "name": "stdout",
     "output_type": "stream",
     "text": [
      "None\n",
      "Reflection: 0.2761\n",
      "Transmission: 0.6495\n",
      "Absorption: 0.0744\n",
      "Side exit: 0.0000\n",
      "Number scattered: 729355\n",
      "Conservation check: 1.0000\n",
      "Simulating photon paths...\n"
     ]
    },
    {
     "name": "stderr",
     "output_type": "stream",
     "text": [
      "100%|█████████████████████████████████| 100000/100000 [00:14<00:00, 6916.98it/s]"
     ]
    },
    {
     "name": "stdout",
     "output_type": "stream",
     "text": [
      "None\n",
      "Reflection: 0.2961\n",
      "Transmission: 0.6072\n",
      "Absorption: 0.0968\n",
      "Side exit: 0.0000\n",
      "Number scattered: 949390\n",
      "Conservation check: 1.0000\n"
     ]
    },
    {
     "name": "stderr",
     "output_type": "stream",
     "text": [
      "\n"
     ]
    }
   ],
   "source": [
    "# 10000 volume\n",
    "optical_depth = 10  # optical depth for each side of the cube\n",
    "# the below make the sphere and pyramid the same volume as the cube, based on the optical depth of cube\n",
    "radius_sphere = optical_depth/((4/3*np.pi)**(1/3))\n",
    "base_height_pyramid = (3*optical_depth**3)**(1/3) # height and base side lengths (equivalent for simplicity)\n",
    "\n",
    "### !! Bug alert !!\n",
    "# bug in code that requires re-running the pyramid function after resetting the base/height measurements\n",
    "# due to set up of function and improper handlind of global variables inside local functions (which jupyter notebook allows)\n",
    "# the whole notebook should be revamped to avoid these issues, but for times sake quick and dirty fix is to reset the function\n",
    "class pyramid:\n",
    "    from scipy.spatial import Delaunay\n",
    "    def __init__(self, base_height_pyramid=base_height_pyramid, direction=\"normal\"):\n",
    "        x = np.array([0,0,base_height_pyramid/2,base_height_pyramid,base_height_pyramid]) \n",
    "        y = np.array([0,base_height_pyramid,base_height_pyramid/2,0,base_height_pyramid]) \n",
    "        z = np.array([0,0,base_height_pyramid,0,0]) \n",
    "        \n",
    "        if direction == \"flipped\": # flip pyramid upside down\n",
    "            z = base_height_pyramid - z\n",
    "        \n",
    "        self.shape = Delaunay(np.array([x, y, z]).T)\n",
    "    \n",
    "    def is_inside(self, point):\n",
    "        point = np.array(point)\n",
    "        # use delauney triangulation to see if point inside or outside\n",
    "        # from old post https://stackoverflow.com/questions/26434726/return-surface-triangle-of-3d-scipy-spatial-delaunay\n",
    "        boolean = self.shape.find_simplex(point) >= 0\n",
    "        return boolean == True\n",
    "## Squash bug later\n",
    "\n",
    "\n",
    "# run sum\n",
    "num_sims = 100000\n",
    "all_photon_paths_C10, R_fraction_C10, T_fraction_C10, A_fraction_C10, S_fraction_C10, nscat_C10 = runMCsim(monte_carlo_3D_cube, \n",
    "                                                                            num_sims)\n",
    "all_photon_paths_S10, R_fraction_S10, T_fraction_S10, A_fraction_S10, S_fraction_S10, nscat_S10 = runMCsim(monte_carlo_3D_sphere, \n",
    "                                                                            num_sims)\n",
    "all_photon_paths_PT10, R_fraction_PT10, T_fraction_PT10, A_fraction_PT10, S_fraction_PT10, nscat_PT10 = runMCsim(monte_carlo_3D_pyramid_top, \n",
    "                                                                            num_sims)\n",
    "all_photon_paths_PB10, R_fraction_PB10, T_fraction_PB10, A_fraction_PB10, S_fraction_PB10, nscat_PB10 = runMCsim(monte_carlo_3D_pyramid_bottom, \n",
    "                                                                            num_sims)"
   ]
  },
  {
   "cell_type": "code",
   "execution_count": 69,
   "id": "16a70a42-2c1a-4cef-ad35-cd64b3ff5c9e",
   "metadata": {},
   "outputs": [
    {
     "name": "stdout",
     "output_type": "stream",
     "text": [
      "Simulating photon paths...\n"
     ]
    },
    {
     "name": "stderr",
     "output_type": "stream",
     "text": [
      "100%|█████████████████████████████████| 100000/100000 [00:17<00:00, 5774.34it/s]\n"
     ]
    },
    {
     "name": "stdout",
     "output_type": "stream",
     "text": [
      "None\n",
      "Reflection: 0.4197\n",
      "Transmission: 0.4326\n",
      "Absorption: 0.1477\n",
      "Side exit: 0.0000\n",
      "Number scattered: 1468856\n",
      "Conservation check: 1.0000\n",
      "Simulating photon paths...\n"
     ]
    },
    {
     "name": "stderr",
     "output_type": "stream",
     "text": [
      "100%|█████████████████████████████████| 100000/100000 [00:19<00:00, 5080.53it/s]\n"
     ]
    },
    {
     "name": "stdout",
     "output_type": "stream",
     "text": [
      "None\n",
      "Reflection: 0.4637\n",
      "Transmission: 0.3886\n",
      "Absorption: 0.1477\n",
      "Side exit: 0.0000\n",
      "Number scattered: 1452603\n",
      "Conservation check: 1.0000\n",
      "Simulating photon paths...\n"
     ]
    },
    {
     "name": "stderr",
     "output_type": "stream",
     "text": [
      "100%|█████████████████████████████████| 100000/100000 [00:13<00:00, 7676.88it/s]\n"
     ]
    },
    {
     "name": "stdout",
     "output_type": "stream",
     "text": [
      "None\n",
      "Reflection: 0.3100\n",
      "Transmission: 0.6071\n",
      "Absorption: 0.0829\n",
      "Side exit: 0.0000\n",
      "Number scattered: 813355\n",
      "Conservation check: 1.0000\n",
      "Simulating photon paths...\n"
     ]
    },
    {
     "name": "stderr",
     "output_type": "stream",
     "text": [
      "100%|█████████████████████████████████| 100000/100000 [00:20<00:00, 4843.41it/s]"
     ]
    },
    {
     "name": "stdout",
     "output_type": "stream",
     "text": [
      "None\n",
      "Reflection: 0.3724\n",
      "Transmission: 0.4846\n",
      "Absorption: 0.1429\n",
      "Side exit: 0.0000\n",
      "Number scattered: 1417203\n",
      "Conservation check: 1.0000\n"
     ]
    },
    {
     "name": "stderr",
     "output_type": "stream",
     "text": [
      "\n"
     ]
    }
   ],
   "source": [
    "# 3375 volume\n",
    "optical_depth = 15  # optical depth for each side of the cube\n",
    "# the below make the sphere and pyramid the same volume as the cube, based on the optical depth of cube\n",
    "radius_sphere = optical_depth/((4/3*np.pi)**(1/3))\n",
    "base_height_pyramid = (3*optical_depth**3)**(1/3) # height and base side lengths (equivalent for simplicity)\n",
    "\n",
    "### !! Bug alert !!\n",
    "# bug in code that requires re-running the pyramid function after resetting the base/height measurements\n",
    "# due to set up of function and improper handlind of global variables inside local functions (which jupyter notebook allows)\n",
    "# the whole notebook should be revamped to avoid these issues, but for times sake quick and dirty fix is to reset the function\n",
    "class pyramid:\n",
    "    from scipy.spatial import Delaunay\n",
    "    def __init__(self, base_height_pyramid=base_height_pyramid, direction=\"normal\"):\n",
    "        x = np.array([0,0,base_height_pyramid/2,base_height_pyramid,base_height_pyramid]) \n",
    "        y = np.array([0,base_height_pyramid,base_height_pyramid/2,0,base_height_pyramid]) \n",
    "        z = np.array([0,0,base_height_pyramid,0,0]) \n",
    "        \n",
    "        if direction == \"flipped\": # flip pyramid upside down\n",
    "            z = base_height_pyramid - z\n",
    "        \n",
    "        self.shape = Delaunay(np.array([x, y, z]).T)\n",
    "    \n",
    "    def is_inside(self, point):\n",
    "        point = np.array(point)\n",
    "        # use delauney triangulation to see if point inside or outside\n",
    "        # from old post https://stackoverflow.com/questions/26434726/return-surface-triangle-of-3d-scipy-spatial-delaunay\n",
    "        boolean = self.shape.find_simplex(point) >= 0\n",
    "        return boolean == True\n",
    "## Squash bug later\n",
    "\n",
    "\n",
    "# run sum\n",
    "num_sims = 100000\n",
    "all_photon_paths_C15, R_fraction_C15, T_fraction_C15, A_fraction_C15, S_fraction_C15, nscat_C15 = runMCsim(monte_carlo_3D_cube, \n",
    "                                                                            num_sims)\n",
    "all_photon_paths_S15, R_fraction_S15, T_fraction_S15, A_fraction_S15, S_fraction_S15, nscat_S15 = runMCsim(monte_carlo_3D_sphere, \n",
    "                                                                            num_sims)\n",
    "all_photon_paths_PT15, R_fraction_PT15, T_fraction_PT15, A_fraction_PT15, S_fraction_PT15, nscat_PT15 = runMCsim(monte_carlo_3D_pyramid_top, \n",
    "                                                                            num_sims)\n",
    "all_photon_paths_PB15, R_fraction_PB15, T_fraction_PB15, A_fraction_PB15, S_fraction_PB15, nscat_PB15 = runMCsim(monte_carlo_3D_pyramid_bottom, \n",
    "                                                                            num_sims)"
   ]
  },
  {
   "cell_type": "code",
   "execution_count": 123,
   "id": "c479dd20-38cb-4045-bd90-2e97c7ae11af",
   "metadata": {},
   "outputs": [
    {
     "data": {
      "text/plain": [
       "np.float64(0.75034)"
      ]
     },
     "execution_count": 123,
     "metadata": {},
     "output_type": "execute_result"
    }
   ],
   "source": [
    "bar.get_width()"
   ]
  },
  {
   "cell_type": "code",
   "execution_count": 188,
   "id": "4ba8aa74-43c5-4d1a-bfc6-1444cfe646a9",
   "metadata": {},
   "outputs": [
    {
     "data": {
      "image/png": "[encoded data removed]",
      "text/plain": [
       "<Figure size 1300x700 with 1 Axes>"
      ]
     },
     "metadata": {},
     "output_type": "display_data"
    }
   ],
   "source": [
    "shapes = ['Flipped Pyramid', 'Pyramid', 'Sphere', 'Cube']\n",
    "volumes = ['125', '1000', '3375']\n",
    "\n",
    "fractions_RTA = {\n",
    "    'Flipped Pyramid': [[R_fraction_PB5, T_fraction_PB5, A_fraction_PB5], [ R_fraction_PB10, T_fraction_PB10, A_fraction_PB10], [ R_fraction_PB15, T_fraction_PB15, A_fraction_PB15]],\n",
    "    'Pyramid': [[R_fraction_PT5, T_fraction_PT5, A_fraction_PT5], [ R_fraction_PT10, T_fraction_PT10, A_fraction_PT10], [ R_fraction_PT15, T_fraction_PT15, A_fraction_PT15]],\n",
    "    'Sphere': [[R_fraction_S5, T_fraction_S5, A_fraction_S5], [ R_fraction_S10, T_fraction_S10, A_fraction_S10], [ R_fraction_S15, T_fraction_S15, A_fraction_S15]],\n",
    "    'Cube': [[R_fraction_C5, T_fraction_C5, A_fraction_C5], [ R_fraction_C10, T_fraction_C10, A_fraction_C10], [ R_fraction_C15, T_fraction_C15, A_fraction_C15]],\n",
    "}\n",
    "\n",
    "scattered_counts = {\n",
    "    'Flipped Pyramid': [nscat_PB5, nscat_PB10, nscat_PB15],\n",
    "    'Pyramid': [nscat_PT5, nscat_PT10, nscat_PT15],\n",
    "    'Sphere': [nscat_S5, nscat_S10, nscat_S15],\n",
    "    'Cube': [nscat_C5, nscat_C10, nscat_C15],\n",
    "}\n",
    "colors = ['#052D74', '#055E30', '#464E56']  # T, R, A\n",
    "\n",
    "bar_height = 0.25\n",
    "\n",
    "group_spacing = 0.4\n",
    "num_volumes = len(volumes)\n",
    "yticks = []\n",
    "yticklabels = []\n",
    "y_pos = []\n",
    "\n",
    "current_y = 0\n",
    "for shape in shapes:\n",
    "    for i in reversed(range(num_volumes)):\n",
    "        y_pos.append(current_y)\n",
    "        yticks.append(current_y)\n",
    "        yticklabels.append(f'{shape} {volumes[i]}')\n",
    "        current_y += bar_height\n",
    "    current_y += group_spacing  \n",
    "\n",
    "transmitted = []\n",
    "reflected = []\n",
    "absorbed = []\n",
    "scattered_values = []\n",
    "\n",
    "for shape in shapes:\n",
    "    for i in reversed(range(num_volumes)):\n",
    "        f = fractions_RTA[shape][i]\n",
    "        reflected.append(f[0])\n",
    "        transmitted.append(f[1])\n",
    "        absorbed.append(f[2])\n",
    "        scattered_values.append(scattered_counts[shape][i])\n",
    "\n",
    "fig, ax = plt.subplots(figsize=(13, 7))\n",
    "\n",
    "# !! T !!\n",
    "trans_bars = ax.barh(y_pos, transmitted, height=bar_height, color=colors[0], \n",
    "                     edgecolor=\"white\", label='Transmitted')\n",
    "for bar, stat in zip(ax.patches, transmitted): # percentage text\n",
    "    ax.text(0.25, bar.get_y()+bar.get_height()/2, f\"{(100*stat):.1f}%\", size=8.2, color = 'white', va = 'center') \n",
    "\n",
    "# !! R !!\n",
    "refl_bars = ax.barh(y_pos, reflected, height=bar_height, left=transmitted, color=colors[1], \n",
    "                     edgecolor=\"white\", label='Reflected')\n",
    "for bar, stat in zip(ax.patches, reflected): # percentage text\n",
    "    ax.text(0.78, bar.get_y()+bar.get_height()/2, f\"{(100*stat):.1f}%\", size=8.2, color = 'white', va = 'center') \n",
    "\n",
    "# !! A !!\n",
    "abs_bars = ax.barh(y_pos, absorbed, height=bar_height,\n",
    "                   left=np.array(transmitted) + np.array(reflected),\n",
    "                   color=colors[2], edgecolor=\"white\", label='Absorbed')\n",
    "for bar, stat in zip(ax.patches, absorbed): # percentage text\n",
    "    ax.text(0.953, bar.get_y()+bar.get_height()/2, f\"{(100*stat):.1f}%\", size=8.2, color = 'white', va = 'center') \n",
    "    \n",
    "\n",
    "for i, y in enumerate(y_pos):\n",
    "    if y == 0: # for legend (do not repeat)  \n",
    "        ax.plot(1.02, y, '.', color=\"black\", label=\"Scattering Count\")  # plot black dot for scattering\n",
    "    else:\n",
    "        ax.plot(1.02, y, '.', color=\"black\")\n",
    "    ax.text(1.03, y, f'{scattered_values[i]}', va='center', fontsize=8)\n",
    "\n",
    "ax.set_yticks(yticks)\n",
    "ax.set_yticklabels(yticklabels, size=9)\n",
    "ax.set_xlim(0, 1.35)\n",
    "ax.set_title('Fraction Transmitted, Reflected, Absorbed & Number of Scattering Events', loc=\"left\", weight=\"bold\")\n",
    "#ax.legend(loc='upper right')\n",
    "handles, labels = plt.gca().get_legend_handles_labels()\n",
    "order = [1,2,3,0]\n",
    "plt.legend([handles[idx] for idx in order],[labels[idx] for idx in order], frameon=False, loc=\"upper right\")\n",
    "plt.tick_params(bottom=False, top=False, labelbottom=False)\n",
    "plt.tight_layout()\n",
    "ax.spines['top'].set_visible(False)\n",
    "ax.spines['right'].set_visible(False)\n",
    "ax.spines['left'].set_visible(False)\n",
    "ax.spines['bottom'].set_visible(False)\n",
    "plt.savefig(\"stacked_bar_shapes_5-10-15.png\", dpi=600)"
   ]
  },
  {
   "cell_type": "code",
   "execution_count": 190,
   "id": "587752d3-a6ba-4c28-b719-1bce89ad2aeb",
   "metadata": {},
   "outputs": [
    {
     "name": "stdout",
     "output_type": "stream",
     "text": [
      "9.305257363491\n",
      "21.633743554611122\n"
     ]
    }
   ],
   "source": [
    "optical_depth = 15  # optical depth for each side of the cube\n",
    "# the below make the sphere and pyramid the same volume as the cube, based on the optical depth of cube\n",
    "radius_sphere = optical_depth/((4/3*np.pi)**(1/3))\n",
    "base_height_pyramid = (3*optical_depth**3)**(1/3) # height and base side lengths (equivalent for simplicity)\n",
    "print(radius_sphere)\n",
    "print(base_height_pyramid)"
   ]
  },
  {
   "cell_type": "code",
   "execution_count": null,
   "id": "84bd7fdc-4994-46eb-84db-cb3634484031",
   "metadata": {},
   "outputs": [],
   "source": []
  }
 ],
 "metadata": {
  "kernelspec": {
   "display_name": "Python 3 (ipykernel)",
   "language": "python",
   "name": "python3"
  },
  "language_info": {
   "codemirror_mode": {
    "name": "ipython",
    "version": 3
   },
   "file_extension": ".py",
   "mimetype": "text/x-python",
   "name": "python",
   "nbconvert_exporter": "python",
   "pygments_lexer": "ipython3",
   "version": "3.11.10"
  }
 },
 "nbformat": 4,
 "nbformat_minor": 5
}
